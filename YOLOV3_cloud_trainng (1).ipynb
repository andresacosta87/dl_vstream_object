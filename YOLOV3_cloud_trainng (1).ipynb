{
 "cells": [
  {
   "cell_type": "markdown",
   "metadata": {
    "colab_type": "text",
    "id": "1ln8inoikxdH"
   },
   "source": [
    "## Yolov3 tutorial to train custom images on Google Colab\n",
    "\n",
    "For this tutorial all the dataset are already on the format required in Yolov3 (.txt). We only took all database and upload to the cloud. First with download darknet repository, install all path and build it on the cloud. Later, we modify or network according to the classes that we want it to identify and finally we run our training. Finally we use the calculated weights in order to test it with some images from our test data. \n",
    "\n",
    "\n",
    "Please make sure that we select GPU model  (edit/notebook setting/ hardware GPU)\n"
   ]
  },
  {
   "cell_type": "markdown",
   "metadata": {
    "colab_type": "text",
    "id": "F2GpPO4Vl9hw"
   },
   "source": [
    "## Step 1: Download darknet and build."
   ]
  },
  {
   "cell_type": "code",
   "execution_count": 0,
   "metadata": {
    "colab": {},
    "colab_type": "code",
    "id": "e-StbbkHl6Xr"
   },
   "outputs": [],
   "source": [
    "# clone darknet repo\n",
    "!git clone https://github.com/AlexeyAB/darknet"
   ]
  },
  {
   "cell_type": "code",
   "execution_count": 0,
   "metadata": {
    "colab": {},
    "colab_type": "code",
    "id": "xhDbXsvDmmDO"
   },
   "outputs": [],
   "source": [
    "%cd darknet\n",
    "!sed -i 's/OPENCV=0/OPENCV=1/' Makefile\n",
    "!sed -i 's/GPU=0/GPU=1/' Makefile\n",
    "!sed -i 's/CUDNN=0/CUDNN=1/' Makefile"
   ]
  },
  {
   "cell_type": "code",
   "execution_count": 0,
   "metadata": {
    "colab": {},
    "colab_type": "code",
    "id": "IgCt02Pkmq-9"
   },
   "outputs": [],
   "source": [
    "# verify CUDA\n",
    "!/usr/local/cuda/bin/nvcc --version"
   ]
  },
  {
   "cell_type": "code",
   "execution_count": 0,
   "metadata": {
    "colab": {},
    "colab_type": "code",
    "id": "vrTKi5pcmspC"
   },
   "outputs": [],
   "source": [
    "# make darknet (build)\n",
    "!make"
   ]
  },
  {
   "cell_type": "code",
   "execution_count": 0,
   "metadata": {
    "colab": {},
    "colab_type": "code",
    "id": "FuzlOqsSmubg"
   },
   "outputs": [],
   "source": [
    "# define helper functions\n",
    "def imShow(path):\n",
    "  import cv2\n",
    "  import matplotlib.pyplot as plt\n",
    "  %matplotlib inline\n",
    "\n",
    "  image = cv2.imread(path)\n",
    "  height, width = image.shape[:2]\n",
    "  resized_image = cv2.resize(image,(3*width, 3*height), interpolation = cv2.INTER_CUBIC)\n",
    "\n",
    "  fig = plt.gcf()\n",
    "  fig.set_size_inches(18, 10)\n",
    "  plt.axis(\"off\")\n",
    "  plt.imshow(cv2.cvtColor(resized_image, cv2.COLOR_BGR2RGB))\n",
    "  plt.show()\n",
    "\n",
    "# use this to upload files\n",
    "def upload():\n",
    "  from google.colab import files\n",
    "  uploaded = files.upload() \n",
    "  for name, data in uploaded.items():\n",
    "    with open(name, 'wb') as f:\n",
    "      f.write(data)\n",
    "      print ('saved file', name)\n",
    "\n",
    "# use this to download a file  \n",
    "def download(path):\n",
    "  from google.colab import files\n",
    "  files.download(path)"
   ]
  },
  {
   "cell_type": "markdown",
   "metadata": {
    "colab_type": "text",
    "id": "JGsMjXFKm4bp"
   },
   "source": [
    "## Step 2: Upload dataset on darknet\n",
    "First we mount my drive in order to upload our dataset and files to the cloud "
   ]
  },
  {
   "cell_type": "code",
   "execution_count": 0,
   "metadata": {
    "colab": {},
    "colab_type": "code",
    "id": "NAbJDKJ6nNiu"
   },
   "outputs": [],
   "source": [
    "%cd ..\n",
    "from google.colab import drive\n",
    "drive.mount('/content/gdrive/')"
   ]
  },
  {
   "cell_type": "code",
   "execution_count": 0,
   "metadata": {
    "colab": {},
    "colab_type": "code",
    "id": "BgJZ3Sj-nOgf"
   },
   "outputs": [],
   "source": [
    "# this creates a symbolic link so that now the path /content/gdrive/My\\ Drive/ is equal to /mydrive\n",
    "!ln -s \"/content/gdrive/My Drive\" \"/mydrive\"\n",
    "\n",
    "!ls /mydrive"
   ]
  },
  {
   "cell_type": "markdown",
   "metadata": {
    "colab_type": "text",
    "id": "SbUShLmJnSFv"
   },
   "source": [
    "With this symbolic link we can drag from mydrive (which is our google drive) to darknet folder. The first thing is to drag/copy /obj (this is the folder with images and .txt data) to darknet/data. Secondly, drag obj.data and obj.names to /darknet/data. It is important that our obj.data have the following path:\n",
    "\n",
    "classes = 1\n",
    "train = data/train.txt\n",
    "valid = data/test.txt\n",
    "names = data/obj.names\n",
    "backup=/mydrive/yolov3/backup\n",
    "\n",
    "In obj.names please type the classes names (i.e brick, person, traffic_light,etc)\n",
    "\n",
    "For cfg file, create a copy a rename as yolov3-custom.cfg and modify max_batches=(#clasess x 2000) \n",
    "filters =(#classes+5)*3 \n",
    "steps=80%max_batches, 90%*match_batches\n",
    "Use  CTRL+F type yolo and modify classes=#classes (line 696) and in the three sections of yolo [convolutional] modify filters according to the eq. (#clases+5)*3. Save on my drive a drag to /darknet/cfg on the cloud. \n",
    "\n",
    "The last thing to is create manually a folder namely /backup on mydrive\n"
   ]
  },
  {
   "cell_type": "markdown",
   "metadata": {
    "colab_type": "text",
    "id": "zdaM_gdOtfP6"
   },
   "source": [
    "## STEP 3: training \n",
    "Into /darknet clone and download darnket53.conv.74 "
   ]
  },
  {
   "cell_type": "code",
   "execution_count": 0,
   "metadata": {
    "colab": {},
    "colab_type": "code",
    "id": "ojdGmR8ktaHL"
   },
   "outputs": [],
   "source": [
    "# upload pretrained convolutional layer weights\n",
    "!wget http://pjreddie.com/media/files/darknet53.conv.74"
   ]
  },
  {
   "cell_type": "markdown",
   "metadata": {
    "colab_type": "text",
    "id": "C3n-Bjhpt2n1"
   },
   "source": [
    "This training could take several hours depending on how many iterations you chose in the .cfg file. You will want to let this run as you sleep or go to work for the day, etc. However, Colab Cloud Service kicks you off it's VMs if you are idle for too long (30-90 mins).\n",
    "\n",
    "To avoid this hold (CTRL + SHIFT + i) at the same time to open up the inspector view on your browser.\n",
    "\n",
    "Paste the following code into your console window and hit Enter\n",
    "\n",
    ">function ClickConnect(){\n",
    "console.log(\"Working\"); \n",
    "document.querySelector(\"colab-toolbar-button#connect\").click() \n",
    "}\n",
    "setInterval(ClickConnect,60000)\n",
    "\n",
    "\n",
    "Now, we're ready to train"
   ]
  },
  {
   "cell_type": "code",
   "execution_count": 0,
   "metadata": {
    "colab": {},
    "colab_type": "code",
    "id": "t05WijyEuDpm"
   },
   "outputs": [],
   "source": [
    "# train your custom detector\n",
    "!./darknet detector train data/obj.data cfg/yolov3-custom.cfg darknet53.conv.74 -dont_show"
   ]
  },
  {
   "cell_type": "markdown",
   "metadata": {
    "colab_type": "text",
    "id": "9V_geM-avGWV"
   },
   "source": [
    "The training will save every 100 iterations a weight file into our backup folder (this is why we create it). Also we can see the chart with loss in a chart.png file "
   ]
  },
  {
   "cell_type": "code",
   "execution_count": 0,
   "metadata": {
    "colab": {},
    "colab_type": "code",
    "id": "7_2oWGMDvAu8"
   },
   "outputs": [],
   "source": [
    "imShow('chart_yolov3-custom.png')"
   ]
  },
  {
   "cell_type": "markdown",
   "metadata": {
    "colab_type": "text",
    "id": "JDWTV6i0vejf"
   },
   "source": [
    " If for some reason you get an error or your Colab goes idle during training, you have not lost your weights! Every 100 iterations a weights file called yolov3_custom_last.weights is saved to mydrive/yolov3/backup/ folder (wherever your backup folder is). This is why we created this folder in our Google drive and not on the cloud VM. If your runtime crashes and your backup folder was in your cloud VM you would lose your weights and your training progress.\n",
    "\n",
    "We can kick off training from our last saved weights file so that we don't have to restart. Just run the following command but with your backup location."
   ]
  },
  {
   "cell_type": "code",
   "execution_count": 0,
   "metadata": {
    "colab": {},
    "colab_type": "code",
    "id": "42q7bExevoo9"
   },
   "outputs": [],
   "source": [
    "!./darknet detector train data/obj.data cfg/yolov3-custom.cfg /mydrive/yolov3/backup/yolov3-custom_last.weights -dont_show"
   ]
  },
  {
   "cell_type": "markdown",
   "metadata": {
    "colab_type": "text",
    "id": "qtkDgE9CvvRt"
   },
   "source": [
    "## Step 4: Run the custom object detector"
   ]
  },
  {
   "cell_type": "code",
   "execution_count": 0,
   "metadata": {
    "colab": {},
    "colab_type": "code",
    "id": "GlHoWGMOv18s"
   },
   "outputs": [],
   "source": [
    "# need to set our custom cfg to test mode \n",
    "%cd cfg\n",
    "!sed -i 's/batch=64/batch=1/' yolov3_custom.cfg\n",
    "!sed -i 's/subdivisions=16/subdivisions=1/' yolov3_custom.cfg\n",
    "%cd .."
   ]
  },
  {
   "cell_type": "code",
   "execution_count": 0,
   "metadata": {
    "colab": {},
    "colab_type": "code",
    "id": "xwOgSKouv4Dq"
   },
   "outputs": [],
   "source": [
    "# run your custom detector with this command (upload an image to your google drive to test, thresh flag sets accuracy that detection must be in order to show it)\n",
    "!./darknet detector test data/obj.data cfg/yolov3-custom.cfg /mydrive/yolov3/backup/yolov3-custom_last.weights /mydrive/images/**.jpg -thresh 0.3\n",
    "imShow('predictions.jpg')"
   ]
  },
  {
   "cell_type": "markdown",
   "metadata": {
    "colab_type": "text",
    "id": "pbLOg5VMv_9J"
   },
   "source": [
    "## DONE. Have Fun \n",
    "\n",
    "Special thanks to @The AI guy from his youtube channel. "
   ]
  },
  {
   "cell_type": "code",
   "execution_count": null,
   "metadata": {},
   "outputs": [],
   "source": []
  }
 ],
 "metadata": {
  "accelerator": "GPU",
  "colab": {
   "name": "YOLOV3 cloud trainng.ipynb",
   "provenance": []
  },
  "kernelspec": {
   "display_name": "Python 3",
   "language": "python",
   "name": "python3"
  },
  "language_info": {
   "codemirror_mode": {
    "name": "ipython",
    "version": 3
   },
   "file_extension": ".py",
   "mimetype": "text/x-python",
   "name": "python",
   "nbconvert_exporter": "python",
   "pygments_lexer": "ipython3",
   "version": "3.6.10"
  }
 },
 "nbformat": 4,
 "nbformat_minor": 1
}
